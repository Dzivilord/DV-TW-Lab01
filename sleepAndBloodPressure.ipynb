{
 "cells": [
  {
   "cell_type": "code",
   "execution_count": 2,
   "metadata": {},
   "outputs": [],
   "source": [
    "import pandas as pd\n",
    "import matplotlib.pyplot as plt\n",
    "import numpy as np"
   ]
  },
  {
   "cell_type": "markdown",
   "metadata": {},
   "source": [
    "* Vấn đề cần trực quan: Huyết áp của một người bị tác động thế nào bởi thời gian ngủ của họ\n",
    "* Các biến sử dụng: Systolic blood pressure,Diastolic blood pressure,Sleep Hours Per Day\t\n",
    "* Loại biểu đồ: Biểu đồ đường\n",
    "* Ý nghĩa của biểu đồ : Biểu đồ này hỗ trợ trực quan xem huyết áp trung bình của những người có cùng thời gian ngủ, với cột dọc là chỉ số huyết áp của tâm thu và huyết áp tâm trương, cột ngang thể hiện số giờ ngủ của họ. Huyết áp là một yếu tố quan trọng giúp xác định nguy cơ mắc bệnh tim của một người. Nếu thực sự thời gian ngủ có thể ảnh hưởng đến huyết áp thì con người có thể điều chỉnh thời gian ngủ hợp lý để tránh nguy cơ mắc bệnh tim.\n",
    "* Nguyên nhân sử dụng biểu đồ : Biểu đồ đường dễ dàng  giúp chúng ta xác định xu hướng của huyết áp khi thời gian ngủ thay đổi.Nếu thời gian ngủ càng ít hoặc càng nhiều dẫn đến thay đổi huyết áp (tăng hoặc giảm), biểu đồ đường sẽ làm nổi bật sự thay đổi này một cách rõ ràng."
   ]
  },
  {
   "cell_type": "code",
   "execution_count": 3,
   "metadata": {},
   "outputs": [],
   "source": [
    "df=pd.read_csv(\"dataset/data.csv\")"
   ]
  },
  {
   "cell_type": "code",
   "execution_count": null,
   "metadata": {},
   "outputs": [],
   "source": [
    "average_bp = df.groupby('Sleep Hours Per Day')[['Systolic blood pressure', 'Diastolic blood pressure']].mean()\n",
    "\n",
    "average_bp.reset_index(inplace=True)\n",
    "\n",
    "plt.figure(figsize=(8, 6))\n",
    "\n",
    "plt.plot(average_bp['Sleep Hours Per Day'], average_bp['Systolic blood pressure'], label='Average Systolic BP', color='blue', marker='o')\n",
    "\n",
    "\n",
    "plt.plot(average_bp['Sleep Hours Per Day'], average_bp['Diastolic blood pressure'], label='Average Diastolic BP', color='red', marker='o')\n",
    "plt.ylim(80, 140)\n",
    "\n",
    "plt.title('Effect of Sleep Hours on Average Blood Pressure')\n",
    "plt.xlabel('Sleep Hours Per Day')\n",
    "plt.ylabel('Blood Pressure (mm Hg)')\n",
    "\n",
    "plt.legend()\n",
    "\n",
    "plt.grid(True)\n",
    "\n",
    "plt.show()"
   ]
  },
  {
   "cell_type": "markdown",
   "metadata": {},
   "source": [
    "Kết luận: Nhìn chung thời gian ngủ có ảnh hưởng đến huyết áp nhưng không quá đáng kể. Đối với những người có thời gian ngủ ít thì huyết áp có sự biến đổi mạnh. Với những người có thời gian ngủ phù hợp, từ 6 tiếng trở lên thì huyết áp hầu như không thay đổi đáng kể."
   ]
  }
 ],
 "metadata": {
  "kernelspec": {
   "display_name": "Python 3",
   "language": "python",
   "name": "python3"
  },
  "language_info": {
   "codemirror_mode": {
    "name": "ipython",
    "version": 3
   },
   "file_extension": ".py",
   "mimetype": "text/x-python",
   "name": "python",
   "nbconvert_exporter": "python",
   "pygments_lexer": "ipython3",
   "version": "3.12.4"
  }
 },
 "nbformat": 4,
 "nbformat_minor": 2
}
