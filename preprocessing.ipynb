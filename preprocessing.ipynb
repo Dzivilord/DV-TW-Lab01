{
 "cells": [
  {
   "cell_type": "markdown",
   "metadata": {},
   "source": [
    "File notebook trên có tác dụng tiền xử lý file bao gồm hai công đoạn:\n",
    "* Tách cột huyết áp ra làm hai cột huyết áp tâm trương và huyết áp tâm thu\n",
    "* Xóa một số cột thuộc tính không có nhu cầu sử dụng bao gồm Income, Hemisphere\n",
    "\n",
    "Những file liên quan đến dữ liệu nằm ở thư mục dataset:\n",
    "* heart_attack_prediction_datase.csv là file dữ liệu được tải về từ kaggle theo đường dẫn: https://www.kaggle.com/datasets/iamsouravbanerjee/heart-attack-prediction-dataset\n",
    "* data.csv là file hậu xử lý, nhóm sẽ thực hiện các thao tác trực quan dựa trên dữ liệu từ file này"
   ]
  },
  {
   "cell_type": "code",
   "execution_count": 5,
   "metadata": {},
   "outputs": [],
   "source": [
    "\n",
    "import pandas as pd\n",
    "import re\n",
    "df= pd.read_csv(\"dataset/heart_attack_prediction_dataset.csv\")\n",
    "\n",
    "Systolic_value=[]\n",
    "Diastolic_values=[]\n",
    "\n",
    "for line in df[\"Blood Pressure\"]:\n",
    "    values = re.findall(r'(\\d+)/(\\d+)', line)\n",
    "    systolic, diastolic = values[0]\n",
    "    Systolic_value.append(int (systolic))\n",
    "    Diastolic_values.append(int (diastolic))\n",
    "    \n",
    "    \n",
    "df[\"Systolic blood pressure\"]=Systolic_value\n",
    "df[\"Diastolic blood pressure\"]=Diastolic_values\n",
    "\n",
    "cols = df.columns.tolist()\n",
    "cols.remove(\"Systolic blood pressure\")\n",
    "cols.remove(\"Diastolic blood pressure\")\n",
    "\n",
    "# Thêm hai cột này vào vị trí thứ 5 và 6 (F và G)\n",
    "cols.insert(5, \"Systolic blood pressure\")\n",
    "cols.insert(6, \"Diastolic blood pressure\")\n",
    "df = df[cols]\n",
    "\n",
    "df=df.drop(columns=[\"Blood Pressure\",\"Hemisphere\",\"Income\"])\n",
    "df\n",
    "\n",
    "df.to_csv(\"dataset/data.csv\",index=False, header=True, sep=\",\")"
   ]
  },
  {
   "cell_type": "markdown",
   "metadata": {},
   "source": [
    "* Cell bên dưới thực hiện việc thay đổi kiểu dữ liệu của file nếu cần thiết"
   ]
  },
  {
   "cell_type": "code",
   "execution_count": null,
   "metadata": {},
   "outputs": [],
   "source": [
    "# Nhớ note lại cell markdown"
   ]
  }
 ],
 "metadata": {
  "kernelspec": {
   "display_name": "Python 3",
   "language": "python",
   "name": "python3"
  },
  "language_info": {
   "codemirror_mode": {
    "name": "ipython",
    "version": 3
   },
   "file_extension": ".py",
   "mimetype": "text/x-python",
   "name": "python",
   "nbconvert_exporter": "python",
   "pygments_lexer": "ipython3",
   "version": "3.12.4"
  }
 },
 "nbformat": 4,
 "nbformat_minor": 2
}
