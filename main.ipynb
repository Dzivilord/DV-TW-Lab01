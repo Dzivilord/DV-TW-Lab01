{
 "cells": [
  {
   "cell_type": "code",
   "execution_count": 16,
   "metadata": {},
   "outputs": [],
   "source": [
    "import pandas as pd\n",
    "import re\n",
    "df= pd.read_csv(\"dataset/heart_attack_prediction_dataset.csv\")\n",
    "\n",
    "Systolic_value=[]\n",
    "Diastolic_values=[]\n",
    "\n",
    "for line in df[\"Blood Pressure\"]:\n",
    "    values = re.findall(r'(\\d+)/(\\d+)', line)\n",
    "    systolic, diastolic = values[0]\n",
    "    Systolic_value.append(int (systolic))\n",
    "    Diastolic_values.append(int (diastolic))\n",
    "    \n",
    "    \n",
    "df[\"Systolic blood pressure\"]=Systolic_value\n",
    "df[\"Diastolic blood pressure\"]=Diastolic_values\n",
    "df=df.drop(columns=[\"Blood Pressure\",\"Hemisphere\",\"Income\"])\n",
    "df\n",
    "df.to_csv(\"dataset/output.csv\",index=False, header=True, sep=\",\")"
   ]
  }
 ],
 "metadata": {
  "kernelspec": {
   "display_name": "Python 3",
   "language": "python",
   "name": "python3"
  },
  "language_info": {
   "codemirror_mode": {
    "name": "ipython",
    "version": 3
   },
   "file_extension": ".py",
   "mimetype": "text/x-python",
   "name": "python",
   "nbconvert_exporter": "python",
   "pygments_lexer": "ipython3",
   "version": "3.12.4"
  }
 },
 "nbformat": 4,
 "nbformat_minor": 2
}
